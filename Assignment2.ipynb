{
 "cells": [
  {
   "cell_type": "code",
   "execution_count": null,
   "metadata": {},
   "outputs": [],
   "source": [
    "#Libraries for Data Analysis & Wrangling\n",
    "import pandas as pd\n",
    "import numpy as np\n",
    "import matplotlib.pyplot as plt\n",
    "import matplotlib.image as mpimg\n",
    "%matplotlib inline\n",
    "import seaborn as sns\n",
    "import os\n",
    "\n",
    "#importing csv file using pandas and read_csv command. \n",
    "NY_Data = pd.read_csv('D:\\AB_NYC_2019.csv')\n",
    "\n",
    "#head() method is used to print top 5 rows & tail() method is used to print last 5 row\n",
    "NY_Data.head().append(NY_Data.tail())"
   ]
  },
  {
   "cell_type": "code",
   "execution_count": null,
   "metadata": {},
   "outputs": [],
   "source": [
    "#printing the dataset\n",
    "print(NY_Data)\n"
   ]
  },
  {
   "cell_type": "code",
   "execution_count": null,
   "metadata": {},
   "outputs": [],
   "source": [
    "#printing the information of the NYC dataset using info() method\n",
    "print(NY_Data.info())"
   ]
  },
  {
   "cell_type": "code",
   "execution_count": null,
   "metadata": {},
   "outputs": [],
   "source": [
    "#getting dataypes using dtypes() method\n",
    "print(NY_Data.dtypes)"
   ]
  },
  {
   "cell_type": "code",
   "execution_count": null,
   "metadata": {},
   "outputs": [],
   "source": [
    "#statistics of the given dataest\n",
    "# we use describe() method\n",
    "print(NY_Data.describe())"
   ]
  },
  {
   "cell_type": "code",
   "execution_count": null,
   "metadata": {},
   "outputs": [],
   "source": [
    "#finding null values using isnull() method\n",
    "print(NY_Data.isnull())"
   ]
  },
  {
   "cell_type": "code",
   "execution_count": null,
   "metadata": {},
   "outputs": [],
   "source": [
    "#calculating the total null values dataset\n",
    "print(NY_Data.isnull().sum())\n",
    "\n",
    "#we've seen that there're 16 null values in names, 21 null values in host_name, 10052 null values in last_review & reviews_per_month"
   ]
  },
  {
   "cell_type": "code",
   "execution_count": null,
   "metadata": {},
   "outputs": [],
   "source": [
    "#Data cleaning\n",
    "\n",
    "m_value = NY_Data.isnull().sum().sort_values(ascending=False)\n",
    "\n",
    "per_missing_values = round((NY_Data.isnull().sum()/NY_Data.isnull().sum().sum()).sort_values(ascending=False),3)\n",
    "\n",
    "null_in_data = pd.concat([m_value, per_missing_values],keys=['Missing values','Percentage'],axis=1)\n",
    "null_in_data.head(2)\n",
    "\n",
    "#as we see that both reviews_per_month & last_review have same missing values."
   ]
  },
  {
   "cell_type": "code",
   "execution_count": null,
   "metadata": {},
   "outputs": [],
   "source": [
    "#bar plot for missing values(reviews_per_month, last_review) using barplot() method\n",
    "\n",
    "plt.figure(figsize=(10,5))\n",
    "missing_plot = sns.barplot(x=m_value.index[0:2],y=m_value[0:2],palette='bright')\n",
    "missing_plot.set_xticklabels(missing_plot.get_xticklabels(),rotation=0)\n",
    "plt.title('Missing values in dataset.')\n",
    "plt.show()"
   ]
  },
  {
   "cell_type": "code",
   "execution_count": null,
   "metadata": {},
   "outputs": [],
   "source": [
    "#As per my knowledge it's best to dropp columns that are not significant or could be unethical to use for our future data exploration and predictions\n",
    "NY_Data.drop(['id','host_name','last_review'], axis=1, inplace=True)\n",
    "NY_Data"
   ]
  },
  {
   "cell_type": "code",
   "execution_count": null,
   "metadata": {},
   "outputs": [],
   "source": [
    "#replacing all NaN values in 'reviews_per_month' with 0\n",
    "NY_Data.fillna({'reviews_per_month':0}, inplace=True)\n",
    "NY_Data.reviews_per_month.isnull().sum()"
   ]
  },
  {
   "cell_type": "code",
   "execution_count": null,
   "metadata": {},
   "outputs": [],
   "source": [
    "#let's proceed with examing some interesting categorical unique values\n",
    "#examining the unique values of neighbourhood_group as this column will appear very handy for later analysis\n",
    "#unique() function is used to get unique values of Series object. \n",
    "NY_Data.neighbourhood_group.unique()"
   ]
  },
  {
   "cell_type": "code",
   "execution_count": null,
   "metadata": {},
   "outputs": [],
   "source": [
    "#printing pie chart using pie() method\n",
    "\n",
    "labels = NY_Data.neighbourhood_group.value_counts().index\n",
    "colors = ['red','beige','yellow','orange','lightpink']\n",
    "explode = [0,0,0,0,0]\n",
    "sizes = NY_Data.neighbourhood_group.value_counts().values\n",
    "\n",
    "plt.figure(0,figsize = (7,7))\n",
    "plt.pie(sizes, explode=[0.1,0.0,0.3,0.5,0.0], labels=labels, colors=colors, autopct='%1.1f%%',shadow=True)\n",
    "plt.title('Neighbourhood Group',color = 'black',fontsize = 15)\n",
    "plt.show()"
   ]
  },
  {
   "cell_type": "code",
   "execution_count": null,
   "metadata": {},
   "outputs": [],
   "source": [
    "#neighbourhood_group-price\n",
    "#printing barplot of price and neighbourhood_group\n",
    "result = NY_Data.groupby([\"neighbourhood_group\"])['price'].aggregate(np.median).reset_index().sort_values('price')\n",
    "sns.barplot(x='neighbourhood_group', y=\"price\", data=nyc_data,palette=colors, order=result['neighbourhood_group']) \n",
    "plt.xticks(rotation=45)\n",
    "plt.show()\n",
    "\n",
    "#As we see that Manhattan has highest price"
   ]
  },
  {
   "cell_type": "code",
   "execution_count": null,
   "metadata": {},
   "outputs": [],
   "source": [
    "#countplot between rooms in different neighbourhood_group\n",
    "\n",
    "plt.figure(figsize=(14,8))\n",
    "sns.countplot(nyc_data.sort_values('neighbourhood_group').neighbourhood_group,hue=NY_Data.room_type)\n",
    "plt.title('Borough wise room type count')\n",
    "plt.xlabel('Borough name')\n",
    "plt.ylabel('Count')\n",
    "plt.show()\n"
   ]
  },
  {
   "cell_type": "code",
   "execution_count": null,
   "metadata": {},
   "outputs": [],
   "source": [
    "#printing the barplot between neighbourhood_group whose availability is 365 \n",
    "\n",
    "result = NY_Data.groupby([\"neighbourhood_group\"])['availability_365'].aggregate(np.median).reset_index().sort_values('availability_365')\n",
    "sns.boxplot(x='neighbourhood_group', y=\"availability_365\", data=NY_Data) \n",
    "plt.show()"
   ]
  },
  {
   "cell_type": "code",
   "execution_count": null,
   "metadata": {},
   "outputs": [],
   "source": [
    "#Piechart for rooms\n",
    "\n",
    "labels = NY_Data.room_type.value_counts().index\n",
    "colors = ['skyblue','pink','yellow']\n",
    "explode = [0,0,0]\n",
    "sizes = NY_Data.room_type.value_counts().values\n",
    "\n",
    "\n",
    "plt.figure(0,figsize = (7,7))\n",
    "plt.pie(sizes, explode=[0,0.05,0.5], labels=labels, colors=colors, autopct='%1.1f%%', shadow=True)\n",
    "# plot.pie(explode=,autopct='%1.1f%%',ax=ax[0],)\n",
    "plt.title('Room-Type',color = 'Brown',fontsize = 15)\n",
    "plt.show()"
   ]
  },
  {
   "cell_type": "code",
   "execution_count": null,
   "metadata": {},
   "outputs": [],
   "source": []
  },
  {
   "cell_type": "code",
   "execution_count": null,
   "metadata": {},
   "outputs": [],
   "source": [
    "#room_type-price\n",
    "result = NY_Data.groupby([\"room_type\"])['price'].aggregate(np.median).reset_index().sort_values('price')\n",
    "sns.barplot(x='room_type', y=\"price\", data=NY_Data, order=result['room_type']) \n",
    "plt.show()"
   ]
  },
  {
   "cell_type": "code",
   "execution_count": null,
   "metadata": {},
   "outputs": [],
   "source": [
    "# Lineplot between availability_365 & price using lineplot() method\n",
    "\n",
    "sns.lineplot(x='availability_365',y='price',data=NY_Data)\n",
    "plt.show()"
   ]
  },
  {
   "cell_type": "code",
   "execution_count": null,
   "metadata": {},
   "outputs": [],
   "source": [
    "#printing scatterplot using scatterplot() method\n",
    "\n",
    "plt.figure(figsize=(10,6))\n",
    "sns.scatterplot(NY_Data.longitude,NY_Data.latitude,hue=NY_Data.neighbourhood_group)\n",
    "plt.ioff()"
   ]
  },
  {
   "cell_type": "code",
   "execution_count": null,
   "metadata": {},
   "outputs": [],
   "source": [
    "\n",
    "#Finding outliers\n",
    "#Outliers -  An outlier is a data point in a data set that is distant from all other observations.A data point that lies outside the overall distribution of the dataset.\n",
    "#we're using boxplot for finding outliers.\n",
    "\n",
    "sns.boxplot(NY_Data['price'])\n",
    "\n",
    "#As we seee that there're some values which are out of bound(for eg :- price lie betweens 8000-10000)"
   ]
  }
 ],
 "metadata": {
  "kernelspec": {
   "display_name": "Python 3",
   "language": "python",
   "name": "python3"
  },
  "language_info": {
   "codemirror_mode": {
    "name": "ipython",
    "version": 3
   },
   "file_extension": ".py",
   "mimetype": "text/x-python",
   "name": "python",
   "nbconvert_exporter": "python",
   "pygments_lexer": "ipython3",
   "version": "3.8.3"
  }
 },
 "nbformat": 4,
 "nbformat_minor": 4
}